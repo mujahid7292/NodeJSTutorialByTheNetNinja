{
 "cells": [
  {
   "cell_type": "markdown",
   "metadata": {},
   "source": [
    "https://www.youtube.com/watch?v=kQ1j0rEI7EI&index=20&list=PL4cUxeGkcC9gcy9lrvMJ75z9maRw4byYp"
   ]
  },
  {
   "cell_type": "markdown",
   "metadata": {},
   "source": [
    "Go To Node Package Manager (NPM). Website: https://www.npmjs.com/"
   ]
  },
  {
   "cell_type": "markdown",
   "metadata": {},
   "source": [
    "Say we want to download express from node package manager. Now search 'express' in search box. Now we will click on only 'express'. Follow the installation procedure & install express in our computer. Details Below:  "
   ]
  },
  {
   "cell_type": "markdown",
   "metadata": {},
   "source": [
    "<ul>\n",
    "    <li>Go to your application directory (In My  case it is D:\\GoogleDrive\\TUTORIALS\\NodeJSTutorialByTheNetNinja\\12_Node_Package_Manager) open cmd in VS code editor. See whether path is ok or not. Then run => <b>npm install express</b></li>\n",
    "    <li>If we want to uninstall express. We will run => <b>npm uninstall express</b></li>\n",
    "   \n",
    "</ul>"
   ]
  },
  {
   "cell_type": "code",
   "execution_count": null,
   "metadata": {},
   "outputs": [],
   "source": []
  }
 ],
 "metadata": {
  "kernelspec": {
   "display_name": "Python 3",
   "language": "python",
   "name": "python3"
  },
  "language_info": {
   "codemirror_mode": {
    "name": "ipython",
    "version": 3
   },
   "file_extension": ".py",
   "mimetype": "text/x-python",
   "name": "python",
   "nbconvert_exporter": "python",
   "pygments_lexer": "ipython3",
   "version": "3.7.0"
  }
 },
 "nbformat": 4,
 "nbformat_minor": 2
}
